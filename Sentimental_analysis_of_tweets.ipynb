{
  "nbformat": 4,
  "nbformat_minor": 0,
  "metadata": {
    "colab": {
      "provenance": [],
      "authorship_tag": "ABX9TyO2zrooz8zg88uw2nTGdy9F",
      "include_colab_link": true
    },
    "kernelspec": {
      "name": "python3",
      "display_name": "Python 3"
    },
    "language_info": {
      "name": "python"
    },
    "widgets": {
      "application/vnd.jupyter.widget-state+json": {
        "5052b24622244982b30c79cd17b23170": {
          "model_module": "@jupyter-widgets/controls",
          "model_name": "HBoxModel",
          "model_module_version": "1.5.0",
          "state": {
            "_dom_classes": [],
            "_model_module": "@jupyter-widgets/controls",
            "_model_module_version": "1.5.0",
            "_model_name": "HBoxModel",
            "_view_count": null,
            "_view_module": "@jupyter-widgets/controls",
            "_view_module_version": "1.5.0",
            "_view_name": "HBoxView",
            "box_style": "",
            "children": [
              "IPY_MODEL_e0b78b28b48d4ca3a92e0445ffa1d14c",
              "IPY_MODEL_2548d2190b0a482c8291732d7ab24930",
              "IPY_MODEL_4f6985dd1f634f739fa9a74202d44f9f"
            ],
            "layout": "IPY_MODEL_0baffb799caf4dc48ceed86bfaec76fe"
          }
        },
        "e0b78b28b48d4ca3a92e0445ffa1d14c": {
          "model_module": "@jupyter-widgets/controls",
          "model_name": "HTMLModel",
          "model_module_version": "1.5.0",
          "state": {
            "_dom_classes": [],
            "_model_module": "@jupyter-widgets/controls",
            "_model_module_version": "1.5.0",
            "_model_name": "HTMLModel",
            "_view_count": null,
            "_view_module": "@jupyter-widgets/controls",
            "_view_module_version": "1.5.0",
            "_view_name": "HTMLView",
            "description": "",
            "description_tooltip": null,
            "layout": "IPY_MODEL_5a02187ff02f431f86104e248dbb2a76",
            "placeholder": "​",
            "style": "IPY_MODEL_b4a01a79a5724ed0baec2a3624afbb61",
            "value": "100%"
          }
        },
        "2548d2190b0a482c8291732d7ab24930": {
          "model_module": "@jupyter-widgets/controls",
          "model_name": "FloatProgressModel",
          "model_module_version": "1.5.0",
          "state": {
            "_dom_classes": [],
            "_model_module": "@jupyter-widgets/controls",
            "_model_module_version": "1.5.0",
            "_model_name": "FloatProgressModel",
            "_view_count": null,
            "_view_module": "@jupyter-widgets/controls",
            "_view_module_version": "1.5.0",
            "_view_name": "ProgressView",
            "bar_style": "success",
            "description": "",
            "description_tooltip": null,
            "layout": "IPY_MODEL_443d22dc9099415e8ed3b04146400be0",
            "max": 24970,
            "min": 0,
            "orientation": "horizontal",
            "style": "IPY_MODEL_2e238a767e1d41d8b5025cec9a65033f",
            "value": 24970
          }
        },
        "4f6985dd1f634f739fa9a74202d44f9f": {
          "model_module": "@jupyter-widgets/controls",
          "model_name": "HTMLModel",
          "model_module_version": "1.5.0",
          "state": {
            "_dom_classes": [],
            "_model_module": "@jupyter-widgets/controls",
            "_model_module_version": "1.5.0",
            "_model_name": "HTMLModel",
            "_view_count": null,
            "_view_module": "@jupyter-widgets/controls",
            "_view_module_version": "1.5.0",
            "_view_name": "HTMLView",
            "description": "",
            "description_tooltip": null,
            "layout": "IPY_MODEL_a4ac7ab5a47a41a59105c65d61468f02",
            "placeholder": "​",
            "style": "IPY_MODEL_8a6613142c7a420f9fdd0089606c0d6f",
            "value": " 24970/24970 [00:12&lt;00:00, 2217.39it/s]"
          }
        },
        "0baffb799caf4dc48ceed86bfaec76fe": {
          "model_module": "@jupyter-widgets/base",
          "model_name": "LayoutModel",
          "model_module_version": "1.2.0",
          "state": {
            "_model_module": "@jupyter-widgets/base",
            "_model_module_version": "1.2.0",
            "_model_name": "LayoutModel",
            "_view_count": null,
            "_view_module": "@jupyter-widgets/base",
            "_view_module_version": "1.2.0",
            "_view_name": "LayoutView",
            "align_content": null,
            "align_items": null,
            "align_self": null,
            "border": null,
            "bottom": null,
            "display": null,
            "flex": null,
            "flex_flow": null,
            "grid_area": null,
            "grid_auto_columns": null,
            "grid_auto_flow": null,
            "grid_auto_rows": null,
            "grid_column": null,
            "grid_gap": null,
            "grid_row": null,
            "grid_template_areas": null,
            "grid_template_columns": null,
            "grid_template_rows": null,
            "height": null,
            "justify_content": null,
            "justify_items": null,
            "left": null,
            "margin": null,
            "max_height": null,
            "max_width": null,
            "min_height": null,
            "min_width": null,
            "object_fit": null,
            "object_position": null,
            "order": null,
            "overflow": null,
            "overflow_x": null,
            "overflow_y": null,
            "padding": null,
            "right": null,
            "top": null,
            "visibility": null,
            "width": null
          }
        },
        "5a02187ff02f431f86104e248dbb2a76": {
          "model_module": "@jupyter-widgets/base",
          "model_name": "LayoutModel",
          "model_module_version": "1.2.0",
          "state": {
            "_model_module": "@jupyter-widgets/base",
            "_model_module_version": "1.2.0",
            "_model_name": "LayoutModel",
            "_view_count": null,
            "_view_module": "@jupyter-widgets/base",
            "_view_module_version": "1.2.0",
            "_view_name": "LayoutView",
            "align_content": null,
            "align_items": null,
            "align_self": null,
            "border": null,
            "bottom": null,
            "display": null,
            "flex": null,
            "flex_flow": null,
            "grid_area": null,
            "grid_auto_columns": null,
            "grid_auto_flow": null,
            "grid_auto_rows": null,
            "grid_column": null,
            "grid_gap": null,
            "grid_row": null,
            "grid_template_areas": null,
            "grid_template_columns": null,
            "grid_template_rows": null,
            "height": null,
            "justify_content": null,
            "justify_items": null,
            "left": null,
            "margin": null,
            "max_height": null,
            "max_width": null,
            "min_height": null,
            "min_width": null,
            "object_fit": null,
            "object_position": null,
            "order": null,
            "overflow": null,
            "overflow_x": null,
            "overflow_y": null,
            "padding": null,
            "right": null,
            "top": null,
            "visibility": null,
            "width": null
          }
        },
        "b4a01a79a5724ed0baec2a3624afbb61": {
          "model_module": "@jupyter-widgets/controls",
          "model_name": "DescriptionStyleModel",
          "model_module_version": "1.5.0",
          "state": {
            "_model_module": "@jupyter-widgets/controls",
            "_model_module_version": "1.5.0",
            "_model_name": "DescriptionStyleModel",
            "_view_count": null,
            "_view_module": "@jupyter-widgets/base",
            "_view_module_version": "1.2.0",
            "_view_name": "StyleView",
            "description_width": ""
          }
        },
        "443d22dc9099415e8ed3b04146400be0": {
          "model_module": "@jupyter-widgets/base",
          "model_name": "LayoutModel",
          "model_module_version": "1.2.0",
          "state": {
            "_model_module": "@jupyter-widgets/base",
            "_model_module_version": "1.2.0",
            "_model_name": "LayoutModel",
            "_view_count": null,
            "_view_module": "@jupyter-widgets/base",
            "_view_module_version": "1.2.0",
            "_view_name": "LayoutView",
            "align_content": null,
            "align_items": null,
            "align_self": null,
            "border": null,
            "bottom": null,
            "display": null,
            "flex": null,
            "flex_flow": null,
            "grid_area": null,
            "grid_auto_columns": null,
            "grid_auto_flow": null,
            "grid_auto_rows": null,
            "grid_column": null,
            "grid_gap": null,
            "grid_row": null,
            "grid_template_areas": null,
            "grid_template_columns": null,
            "grid_template_rows": null,
            "height": null,
            "justify_content": null,
            "justify_items": null,
            "left": null,
            "margin": null,
            "max_height": null,
            "max_width": null,
            "min_height": null,
            "min_width": null,
            "object_fit": null,
            "object_position": null,
            "order": null,
            "overflow": null,
            "overflow_x": null,
            "overflow_y": null,
            "padding": null,
            "right": null,
            "top": null,
            "visibility": null,
            "width": null
          }
        },
        "2e238a767e1d41d8b5025cec9a65033f": {
          "model_module": "@jupyter-widgets/controls",
          "model_name": "ProgressStyleModel",
          "model_module_version": "1.5.0",
          "state": {
            "_model_module": "@jupyter-widgets/controls",
            "_model_module_version": "1.5.0",
            "_model_name": "ProgressStyleModel",
            "_view_count": null,
            "_view_module": "@jupyter-widgets/base",
            "_view_module_version": "1.2.0",
            "_view_name": "StyleView",
            "bar_color": null,
            "description_width": ""
          }
        },
        "a4ac7ab5a47a41a59105c65d61468f02": {
          "model_module": "@jupyter-widgets/base",
          "model_name": "LayoutModel",
          "model_module_version": "1.2.0",
          "state": {
            "_model_module": "@jupyter-widgets/base",
            "_model_module_version": "1.2.0",
            "_model_name": "LayoutModel",
            "_view_count": null,
            "_view_module": "@jupyter-widgets/base",
            "_view_module_version": "1.2.0",
            "_view_name": "LayoutView",
            "align_content": null,
            "align_items": null,
            "align_self": null,
            "border": null,
            "bottom": null,
            "display": null,
            "flex": null,
            "flex_flow": null,
            "grid_area": null,
            "grid_auto_columns": null,
            "grid_auto_flow": null,
            "grid_auto_rows": null,
            "grid_column": null,
            "grid_gap": null,
            "grid_row": null,
            "grid_template_areas": null,
            "grid_template_columns": null,
            "grid_template_rows": null,
            "height": null,
            "justify_content": null,
            "justify_items": null,
            "left": null,
            "margin": null,
            "max_height": null,
            "max_width": null,
            "min_height": null,
            "min_width": null,
            "object_fit": null,
            "object_position": null,
            "order": null,
            "overflow": null,
            "overflow_x": null,
            "overflow_y": null,
            "padding": null,
            "right": null,
            "top": null,
            "visibility": null,
            "width": null
          }
        },
        "8a6613142c7a420f9fdd0089606c0d6f": {
          "model_module": "@jupyter-widgets/controls",
          "model_name": "DescriptionStyleModel",
          "model_module_version": "1.5.0",
          "state": {
            "_model_module": "@jupyter-widgets/controls",
            "_model_module_version": "1.5.0",
            "_model_name": "DescriptionStyleModel",
            "_view_count": null,
            "_view_module": "@jupyter-widgets/base",
            "_view_module_version": "1.2.0",
            "_view_name": "StyleView",
            "description_width": ""
          }
        }
      }
    }
  },
  "cells": [
    {
      "cell_type": "markdown",
      "metadata": {
        "id": "view-in-github",
        "colab_type": "text"
      },
      "source": [
        "<a href=\"https://colab.research.google.com/github/siddhartha1506/sentimental-analysis-of-tweets/blob/main/Sentimental_analysis_of_tweets.ipynb\" target=\"_parent\"><img src=\"https://colab.research.google.com/assets/colab-badge.svg\" alt=\"Open In Colab\"/></a>"
      ]
    },
    {
      "cell_type": "code",
      "source": [
        "import pandas as pd\n",
        "import matplotlib.pyplot as plt\n",
        "import seaborn as sns\n",
        "from nltk.sentiment import SentimentIntensityAnalyzer"
      ],
      "metadata": {
        "id": "2ibMQP8OR41Z"
      },
      "execution_count": null,
      "outputs": []
    },
    {
      "cell_type": "markdown",
      "source": [
        "**Tweets**"
      ],
      "metadata": {
        "id": "s4aQMGMwZArZ"
      }
    },
    {
      "cell_type": "code",
      "source": [
        "path='/content/sample_data/tweets.csv'"
      ],
      "metadata": {
        "id": "HU_M-mVOZXov"
      },
      "execution_count": null,
      "outputs": []
    },
    {
      "cell_type": "code",
      "source": [
        "df=pd.read_csv(path)"
      ],
      "metadata": {
        "id": "G68dIJIiZnlc"
      },
      "execution_count": null,
      "outputs": []
    },
    {
      "cell_type": "code",
      "source": [
        "df.head()"
      ],
      "metadata": {
        "colab": {
          "base_uri": "https://localhost:8080/",
          "height": 206
        },
        "id": "30uzWb-jZr-_",
        "outputId": "3a90ce34-cf80-4a2b-b891-67c8c0e949b7"
      },
      "execution_count": null,
      "outputs": [
        {
          "output_type": "execute_result",
          "data": {
            "text/plain": [
              "                    Datetime             Tweet Id  \\\n",
              "0  2022-09-30 23:29:15+00:00  1575991191170342912   \n",
              "1  2022-09-30 21:46:35+00:00  1575965354425131008   \n",
              "2  2022-09-30 21:18:02+00:00  1575958171423752203   \n",
              "3  2022-09-30 20:05:24+00:00  1575939891485032450   \n",
              "4  2022-09-30 20:03:17+00:00  1575939359160750080   \n",
              "\n",
              "                                                Text        Username  \n",
              "0  @Logitech @apple @Google @Microsoft @Dell @Len...  ManjuSreedaran  \n",
              "1  @MK_habit_addict @official_stier @MortalKombat...      MiKeMcDnet  \n",
              "2  As @CRN celebrates its 40th anniversary, Bob F...        jfollett  \n",
              "3  @dell your customer service is horrible especi...       daveccarr  \n",
              "4  @zacokalo @Dell @DellCares @Dell give the man ...      heycamella  "
            ],
            "text/html": [
              "\n",
              "  <div id=\"df-6ad2ffb3-b780-4146-a2a7-108a1be55cbd\">\n",
              "    <div class=\"colab-df-container\">\n",
              "      <div>\n",
              "<style scoped>\n",
              "    .dataframe tbody tr th:only-of-type {\n",
              "        vertical-align: middle;\n",
              "    }\n",
              "\n",
              "    .dataframe tbody tr th {\n",
              "        vertical-align: top;\n",
              "    }\n",
              "\n",
              "    .dataframe thead th {\n",
              "        text-align: right;\n",
              "    }\n",
              "</style>\n",
              "<table border=\"1\" class=\"dataframe\">\n",
              "  <thead>\n",
              "    <tr style=\"text-align: right;\">\n",
              "      <th></th>\n",
              "      <th>Datetime</th>\n",
              "      <th>Tweet Id</th>\n",
              "      <th>Text</th>\n",
              "      <th>Username</th>\n",
              "    </tr>\n",
              "  </thead>\n",
              "  <tbody>\n",
              "    <tr>\n",
              "      <th>0</th>\n",
              "      <td>2022-09-30 23:29:15+00:00</td>\n",
              "      <td>1575991191170342912</td>\n",
              "      <td>@Logitech @apple @Google @Microsoft @Dell @Len...</td>\n",
              "      <td>ManjuSreedaran</td>\n",
              "    </tr>\n",
              "    <tr>\n",
              "      <th>1</th>\n",
              "      <td>2022-09-30 21:46:35+00:00</td>\n",
              "      <td>1575965354425131008</td>\n",
              "      <td>@MK_habit_addict @official_stier @MortalKombat...</td>\n",
              "      <td>MiKeMcDnet</td>\n",
              "    </tr>\n",
              "    <tr>\n",
              "      <th>2</th>\n",
              "      <td>2022-09-30 21:18:02+00:00</td>\n",
              "      <td>1575958171423752203</td>\n",
              "      <td>As @CRN celebrates its 40th anniversary, Bob F...</td>\n",
              "      <td>jfollett</td>\n",
              "    </tr>\n",
              "    <tr>\n",
              "      <th>3</th>\n",
              "      <td>2022-09-30 20:05:24+00:00</td>\n",
              "      <td>1575939891485032450</td>\n",
              "      <td>@dell your customer service is horrible especi...</td>\n",
              "      <td>daveccarr</td>\n",
              "    </tr>\n",
              "    <tr>\n",
              "      <th>4</th>\n",
              "      <td>2022-09-30 20:03:17+00:00</td>\n",
              "      <td>1575939359160750080</td>\n",
              "      <td>@zacokalo @Dell @DellCares @Dell give the man ...</td>\n",
              "      <td>heycamella</td>\n",
              "    </tr>\n",
              "  </tbody>\n",
              "</table>\n",
              "</div>\n",
              "      <button class=\"colab-df-convert\" onclick=\"convertToInteractive('df-6ad2ffb3-b780-4146-a2a7-108a1be55cbd')\"\n",
              "              title=\"Convert this dataframe to an interactive table.\"\n",
              "              style=\"display:none;\">\n",
              "        \n",
              "  <svg xmlns=\"http://www.w3.org/2000/svg\" height=\"24px\"viewBox=\"0 0 24 24\"\n",
              "       width=\"24px\">\n",
              "    <path d=\"M0 0h24v24H0V0z\" fill=\"none\"/>\n",
              "    <path d=\"M18.56 5.44l.94 2.06.94-2.06 2.06-.94-2.06-.94-.94-2.06-.94 2.06-2.06.94zm-11 1L8.5 8.5l.94-2.06 2.06-.94-2.06-.94L8.5 2.5l-.94 2.06-2.06.94zm10 10l.94 2.06.94-2.06 2.06-.94-2.06-.94-.94-2.06-.94 2.06-2.06.94z\"/><path d=\"M17.41 7.96l-1.37-1.37c-.4-.4-.92-.59-1.43-.59-.52 0-1.04.2-1.43.59L10.3 9.45l-7.72 7.72c-.78.78-.78 2.05 0 2.83L4 21.41c.39.39.9.59 1.41.59.51 0 1.02-.2 1.41-.59l7.78-7.78 2.81-2.81c.8-.78.8-2.07 0-2.86zM5.41 20L4 18.59l7.72-7.72 1.47 1.35L5.41 20z\"/>\n",
              "  </svg>\n",
              "      </button>\n",
              "      \n",
              "  <style>\n",
              "    .colab-df-container {\n",
              "      display:flex;\n",
              "      flex-wrap:wrap;\n",
              "      gap: 12px;\n",
              "    }\n",
              "\n",
              "    .colab-df-convert {\n",
              "      background-color: #E8F0FE;\n",
              "      border: none;\n",
              "      border-radius: 50%;\n",
              "      cursor: pointer;\n",
              "      display: none;\n",
              "      fill: #1967D2;\n",
              "      height: 32px;\n",
              "      padding: 0 0 0 0;\n",
              "      width: 32px;\n",
              "    }\n",
              "\n",
              "    .colab-df-convert:hover {\n",
              "      background-color: #E2EBFA;\n",
              "      box-shadow: 0px 1px 2px rgba(60, 64, 67, 0.3), 0px 1px 3px 1px rgba(60, 64, 67, 0.15);\n",
              "      fill: #174EA6;\n",
              "    }\n",
              "\n",
              "    [theme=dark] .colab-df-convert {\n",
              "      background-color: #3B4455;\n",
              "      fill: #D2E3FC;\n",
              "    }\n",
              "\n",
              "    [theme=dark] .colab-df-convert:hover {\n",
              "      background-color: #434B5C;\n",
              "      box-shadow: 0px 1px 3px 1px rgba(0, 0, 0, 0.15);\n",
              "      filter: drop-shadow(0px 1px 2px rgba(0, 0, 0, 0.3));\n",
              "      fill: #FFFFFF;\n",
              "    }\n",
              "  </style>\n",
              "\n",
              "      <script>\n",
              "        const buttonEl =\n",
              "          document.querySelector('#df-6ad2ffb3-b780-4146-a2a7-108a1be55cbd button.colab-df-convert');\n",
              "        buttonEl.style.display =\n",
              "          google.colab.kernel.accessAllowed ? 'block' : 'none';\n",
              "\n",
              "        async function convertToInteractive(key) {\n",
              "          const element = document.querySelector('#df-6ad2ffb3-b780-4146-a2a7-108a1be55cbd');\n",
              "          const dataTable =\n",
              "            await google.colab.kernel.invokeFunction('convertToInteractive',\n",
              "                                                     [key], {});\n",
              "          if (!dataTable) return;\n",
              "\n",
              "          const docLinkHtml = 'Like what you see? Visit the ' +\n",
              "            '<a target=\"_blank\" href=https://colab.research.google.com/notebooks/data_table.ipynb>data table notebook</a>'\n",
              "            + ' to learn more about interactive tables.';\n",
              "          element.innerHTML = '';\n",
              "          dataTable['output_type'] = 'display_data';\n",
              "          await google.colab.output.renderOutput(dataTable, element);\n",
              "          const docLink = document.createElement('div');\n",
              "          docLink.innerHTML = docLinkHtml;\n",
              "          element.appendChild(docLink);\n",
              "        }\n",
              "      </script>\n",
              "    </div>\n",
              "  </div>\n",
              "  "
            ]
          },
          "metadata": {},
          "execution_count": 25
        }
      ]
    },
    {
      "cell_type": "code",
      "source": [
        "print(df.Text.values[3], \"\\n\\n\\n\")\n",
        "print(df.Text.values[38])"
      ],
      "metadata": {
        "colab": {
          "base_uri": "https://localhost:8080/"
        },
        "id": "nSKsK3_zZ8dy",
        "outputId": "7125f944-e134-4b4b-9e99-078cc4853572"
      },
      "execution_count": null,
      "outputs": [
        {
          "output_type": "stream",
          "name": "stdout",
          "text": [
            "@dell your customer service is horrible especially agent syedfaisal who has made this experience of purchasing a new computer downright awful and I’ll reconsider ever buying a Dell in the future @DellTech \n",
            "\n",
            "\n",
            "\n",
            "@Dell @MichaelDell  u r known for the best in class laptop and hardware and even services. We are sure you will not disappoint. https://t.co/G7ECpgckwF\n"
          ]
        }
      ]
    },
    {
      "cell_type": "markdown",
      "source": [
        "**Example: **\n",
        "                1st line - Negative sentiment\n",
        "                2nd line - Positive sentiment"
      ],
      "metadata": {
        "id": "oB_St1NdaE0E"
      }
    },
    {
      "cell_type": "markdown",
      "source": [
        "**User with maximum tweets**"
      ],
      "metadata": {
        "id": "RkBdGZaYafaB"
      }
    },
    {
      "cell_type": "code",
      "source": [
        "max_no_of_tweets = df[\"Username\"].value_counts()[:10]\n",
        "max_no_of_tweets"
      ],
      "metadata": {
        "colab": {
          "base_uri": "https://localhost:8080/"
        },
        "id": "ZpRmzT-taR5I",
        "outputId": "36b980c5-6655-42d3-92ed-3e29ba860d27"
      },
      "execution_count": null,
      "outputs": [
        {
          "output_type": "execute_result",
          "data": {
            "text/plain": [
              "johnphillips34     334\n",
              "jkline120          174\n",
              "JordanJamesEtem    117\n",
              "mrlarryridley      111\n",
              "AiThority          104\n",
              "solucionetcp        99\n",
              "jonathanj92389      94\n",
              "AnsgarTOdinson      79\n",
              "mikecodemonkey      75\n",
              "Bradley72901397     56\n",
              "Name: Username, dtype: int64"
            ]
          },
          "metadata": {},
          "execution_count": 27
        }
      ]
    },
    {
      "cell_type": "markdown",
      "source": [
        "**Sentiment Analysis**"
      ],
      "metadata": {
        "id": "2bx7f2tmasNJ"
      }
    },
    {
      "cell_type": "markdown",
      "source": [
        "**Setting up the model**"
      ],
      "metadata": {
        "id": "ILVfqXdpaud_"
      }
    },
    {
      "cell_type": "code",
      "source": [
        "sia_model= SentimentIntensityAnalyzer()\n",
        "sia_model"
      ],
      "metadata": {
        "colab": {
          "base_uri": "https://localhost:8080/"
        },
        "id": "SbGDKhW9anai",
        "outputId": "fade5662-6298-465d-aa39-b74078f9266a"
      },
      "execution_count": null,
      "outputs": [
        {
          "output_type": "execute_result",
          "data": {
            "text/plain": [
              "<nltk.sentiment.vader.SentimentIntensityAnalyzer at 0x7f2ce901caf0>"
            ]
          },
          "metadata": {},
          "execution_count": 31
        }
      ]
    },
    {
      "cell_type": "code",
      "source": [
        "example = df.Text.values[105]\n",
        "example"
      ],
      "metadata": {
        "colab": {
          "base_uri": "https://localhost:8080/",
          "height": 54
        },
        "id": "B1iKRTBjbTSK",
        "outputId": "6b84f4c7-4738-424e-c056-428054b12dc5"
      },
      "execution_count": null,
      "outputs": [
        {
          "output_type": "execute_result",
          "data": {
            "text/plain": [
              "'@jaserhunter @Dell @Dell does make some nice gaming rigs and huge wide screen monitors that would be amazing for editing photos, and gaming obvs.'"
            ],
            "application/vnd.google.colaboratory.intrinsic+json": {
              "type": "string"
            }
          },
          "metadata": {},
          "execution_count": 38
        }
      ]
    },
    {
      "cell_type": "code",
      "source": [
        "sia_model.polarity_scores(example)"
      ],
      "metadata": {
        "colab": {
          "base_uri": "https://localhost:8080/"
        },
        "id": "wI_Z3a5TbkJZ",
        "outputId": "15c963ef-32e9-45d6-9381-553bddb6725a"
      },
      "execution_count": null,
      "outputs": [
        {
          "output_type": "execute_result",
          "data": {
            "text/plain": [
              "{'neg': 0.0, 'neu': 0.702, 'pos': 0.298, 'compound': 0.836}"
            ]
          },
          "metadata": {},
          "execution_count": 39
        }
      ]
    },
    {
      "cell_type": "markdown",
      "source": [
        "The model correctly predicts the appropriate sentiment.\n",
        "Applying for the entire dataset. "
      ],
      "metadata": {
        "id": "SM9sKb68bxtN"
      }
    },
    {
      "cell_type": "code",
      "source": [
        "from tqdm.notebook import tqdm"
      ],
      "metadata": {
        "id": "PSvnAszqcXN6"
      },
      "execution_count": null,
      "outputs": []
    },
    {
      "cell_type": "code",
      "source": [
        "res = {}\n",
        "for i, row in tqdm(df.iterrows(), total = len(df)):\n",
        "    text = row['Text']\n",
        "    myid = row['Tweet Id']\n",
        "    res[myid] = sia_model.polarity_scores(text)\n",
        "Vader_res = pd.DataFrame(res).T\n",
        "Vader_res"
      ],
      "metadata": {
        "colab": {
          "base_uri": "https://localhost:8080/",
          "height": 455,
          "referenced_widgets": [
            "5052b24622244982b30c79cd17b23170",
            "e0b78b28b48d4ca3a92e0445ffa1d14c",
            "2548d2190b0a482c8291732d7ab24930",
            "4f6985dd1f634f739fa9a74202d44f9f",
            "0baffb799caf4dc48ceed86bfaec76fe",
            "5a02187ff02f431f86104e248dbb2a76",
            "b4a01a79a5724ed0baec2a3624afbb61",
            "443d22dc9099415e8ed3b04146400be0",
            "2e238a767e1d41d8b5025cec9a65033f",
            "a4ac7ab5a47a41a59105c65d61468f02",
            "8a6613142c7a420f9fdd0089606c0d6f"
          ]
        },
        "id": "WCjL1AEAb8WX",
        "outputId": "ed2fee41-a771-492d-e9a9-3b60da05300e"
      },
      "execution_count": null,
      "outputs": [
        {
          "output_type": "display_data",
          "data": {
            "text/plain": [
              "  0%|          | 0/24970 [00:00<?, ?it/s]"
            ],
            "application/vnd.jupyter.widget-view+json": {
              "version_major": 2,
              "version_minor": 0,
              "model_id": "5052b24622244982b30c79cd17b23170"
            }
          },
          "metadata": {}
        },
        {
          "output_type": "execute_result",
          "data": {
            "text/plain": [
              "                       neg    neu    pos  compound\n",
              "1575991191170342912  0.000  0.875  0.125    0.6461\n",
              "1575965354425131008  0.000  1.000  0.000    0.0000\n",
              "1575958171423752203  0.000  0.899  0.101    0.5719\n",
              "1575939891485032450  0.188  0.812  0.000   -0.7579\n",
              "1575939359160750080  0.000  1.000  0.000    0.0000\n",
              "...                    ...    ...    ...       ...\n",
              "1477097760931336198  0.087  0.764  0.149    0.5414\n",
              "1477096631300415496  0.000  0.644  0.356    0.9055\n",
              "1477091355629432833  0.000  1.000  0.000    0.0000\n",
              "1477090070830141442  0.000  0.926  0.074    0.2846\n",
              "1477082048900726784  0.044  0.728  0.228    0.9343\n",
              "\n",
              "[24970 rows x 4 columns]"
            ],
            "text/html": [
              "\n",
              "  <div id=\"df-1a2fd403-bce4-46de-a74f-32dc1cda481d\">\n",
              "    <div class=\"colab-df-container\">\n",
              "      <div>\n",
              "<style scoped>\n",
              "    .dataframe tbody tr th:only-of-type {\n",
              "        vertical-align: middle;\n",
              "    }\n",
              "\n",
              "    .dataframe tbody tr th {\n",
              "        vertical-align: top;\n",
              "    }\n",
              "\n",
              "    .dataframe thead th {\n",
              "        text-align: right;\n",
              "    }\n",
              "</style>\n",
              "<table border=\"1\" class=\"dataframe\">\n",
              "  <thead>\n",
              "    <tr style=\"text-align: right;\">\n",
              "      <th></th>\n",
              "      <th>neg</th>\n",
              "      <th>neu</th>\n",
              "      <th>pos</th>\n",
              "      <th>compound</th>\n",
              "    </tr>\n",
              "  </thead>\n",
              "  <tbody>\n",
              "    <tr>\n",
              "      <th>1575991191170342912</th>\n",
              "      <td>0.000</td>\n",
              "      <td>0.875</td>\n",
              "      <td>0.125</td>\n",
              "      <td>0.6461</td>\n",
              "    </tr>\n",
              "    <tr>\n",
              "      <th>1575965354425131008</th>\n",
              "      <td>0.000</td>\n",
              "      <td>1.000</td>\n",
              "      <td>0.000</td>\n",
              "      <td>0.0000</td>\n",
              "    </tr>\n",
              "    <tr>\n",
              "      <th>1575958171423752203</th>\n",
              "      <td>0.000</td>\n",
              "      <td>0.899</td>\n",
              "      <td>0.101</td>\n",
              "      <td>0.5719</td>\n",
              "    </tr>\n",
              "    <tr>\n",
              "      <th>1575939891485032450</th>\n",
              "      <td>0.188</td>\n",
              "      <td>0.812</td>\n",
              "      <td>0.000</td>\n",
              "      <td>-0.7579</td>\n",
              "    </tr>\n",
              "    <tr>\n",
              "      <th>1575939359160750080</th>\n",
              "      <td>0.000</td>\n",
              "      <td>1.000</td>\n",
              "      <td>0.000</td>\n",
              "      <td>0.0000</td>\n",
              "    </tr>\n",
              "    <tr>\n",
              "      <th>...</th>\n",
              "      <td>...</td>\n",
              "      <td>...</td>\n",
              "      <td>...</td>\n",
              "      <td>...</td>\n",
              "    </tr>\n",
              "    <tr>\n",
              "      <th>1477097760931336198</th>\n",
              "      <td>0.087</td>\n",
              "      <td>0.764</td>\n",
              "      <td>0.149</td>\n",
              "      <td>0.5414</td>\n",
              "    </tr>\n",
              "    <tr>\n",
              "      <th>1477096631300415496</th>\n",
              "      <td>0.000</td>\n",
              "      <td>0.644</td>\n",
              "      <td>0.356</td>\n",
              "      <td>0.9055</td>\n",
              "    </tr>\n",
              "    <tr>\n",
              "      <th>1477091355629432833</th>\n",
              "      <td>0.000</td>\n",
              "      <td>1.000</td>\n",
              "      <td>0.000</td>\n",
              "      <td>0.0000</td>\n",
              "    </tr>\n",
              "    <tr>\n",
              "      <th>1477090070830141442</th>\n",
              "      <td>0.000</td>\n",
              "      <td>0.926</td>\n",
              "      <td>0.074</td>\n",
              "      <td>0.2846</td>\n",
              "    </tr>\n",
              "    <tr>\n",
              "      <th>1477082048900726784</th>\n",
              "      <td>0.044</td>\n",
              "      <td>0.728</td>\n",
              "      <td>0.228</td>\n",
              "      <td>0.9343</td>\n",
              "    </tr>\n",
              "  </tbody>\n",
              "</table>\n",
              "<p>24970 rows × 4 columns</p>\n",
              "</div>\n",
              "      <button class=\"colab-df-convert\" onclick=\"convertToInteractive('df-1a2fd403-bce4-46de-a74f-32dc1cda481d')\"\n",
              "              title=\"Convert this dataframe to an interactive table.\"\n",
              "              style=\"display:none;\">\n",
              "        \n",
              "  <svg xmlns=\"http://www.w3.org/2000/svg\" height=\"24px\"viewBox=\"0 0 24 24\"\n",
              "       width=\"24px\">\n",
              "    <path d=\"M0 0h24v24H0V0z\" fill=\"none\"/>\n",
              "    <path d=\"M18.56 5.44l.94 2.06.94-2.06 2.06-.94-2.06-.94-.94-2.06-.94 2.06-2.06.94zm-11 1L8.5 8.5l.94-2.06 2.06-.94-2.06-.94L8.5 2.5l-.94 2.06-2.06.94zm10 10l.94 2.06.94-2.06 2.06-.94-2.06-.94-.94-2.06-.94 2.06-2.06.94z\"/><path d=\"M17.41 7.96l-1.37-1.37c-.4-.4-.92-.59-1.43-.59-.52 0-1.04.2-1.43.59L10.3 9.45l-7.72 7.72c-.78.78-.78 2.05 0 2.83L4 21.41c.39.39.9.59 1.41.59.51 0 1.02-.2 1.41-.59l7.78-7.78 2.81-2.81c.8-.78.8-2.07 0-2.86zM5.41 20L4 18.59l7.72-7.72 1.47 1.35L5.41 20z\"/>\n",
              "  </svg>\n",
              "      </button>\n",
              "      \n",
              "  <style>\n",
              "    .colab-df-container {\n",
              "      display:flex;\n",
              "      flex-wrap:wrap;\n",
              "      gap: 12px;\n",
              "    }\n",
              "\n",
              "    .colab-df-convert {\n",
              "      background-color: #E8F0FE;\n",
              "      border: none;\n",
              "      border-radius: 50%;\n",
              "      cursor: pointer;\n",
              "      display: none;\n",
              "      fill: #1967D2;\n",
              "      height: 32px;\n",
              "      padding: 0 0 0 0;\n",
              "      width: 32px;\n",
              "    }\n",
              "\n",
              "    .colab-df-convert:hover {\n",
              "      background-color: #E2EBFA;\n",
              "      box-shadow: 0px 1px 2px rgba(60, 64, 67, 0.3), 0px 1px 3px 1px rgba(60, 64, 67, 0.15);\n",
              "      fill: #174EA6;\n",
              "    }\n",
              "\n",
              "    [theme=dark] .colab-df-convert {\n",
              "      background-color: #3B4455;\n",
              "      fill: #D2E3FC;\n",
              "    }\n",
              "\n",
              "    [theme=dark] .colab-df-convert:hover {\n",
              "      background-color: #434B5C;\n",
              "      box-shadow: 0px 1px 3px 1px rgba(0, 0, 0, 0.15);\n",
              "      filter: drop-shadow(0px 1px 2px rgba(0, 0, 0, 0.3));\n",
              "      fill: #FFFFFF;\n",
              "    }\n",
              "  </style>\n",
              "\n",
              "      <script>\n",
              "        const buttonEl =\n",
              "          document.querySelector('#df-1a2fd403-bce4-46de-a74f-32dc1cda481d button.colab-df-convert');\n",
              "        buttonEl.style.display =\n",
              "          google.colab.kernel.accessAllowed ? 'block' : 'none';\n",
              "\n",
              "        async function convertToInteractive(key) {\n",
              "          const element = document.querySelector('#df-1a2fd403-bce4-46de-a74f-32dc1cda481d');\n",
              "          const dataTable =\n",
              "            await google.colab.kernel.invokeFunction('convertToInteractive',\n",
              "                                                     [key], {});\n",
              "          if (!dataTable) return;\n",
              "\n",
              "          const docLinkHtml = 'Like what you see? Visit the ' +\n",
              "            '<a target=\"_blank\" href=https://colab.research.google.com/notebooks/data_table.ipynb>data table notebook</a>'\n",
              "            + ' to learn more about interactive tables.';\n",
              "          element.innerHTML = '';\n",
              "          dataTable['output_type'] = 'display_data';\n",
              "          await google.colab.output.renderOutput(dataTable, element);\n",
              "          const docLink = document.createElement('div');\n",
              "          docLink.innerHTML = docLinkHtml;\n",
              "          element.appendChild(docLink);\n",
              "        }\n",
              "      </script>\n",
              "    </div>\n",
              "  </div>\n",
              "  "
            ]
          },
          "metadata": {},
          "execution_count": 42
        }
      ]
    },
    {
      "cell_type": "code",
      "source": [
        "Vader_res = Vader_res.reset_index().rename(columns = {'index' : 'Tweet Id'})"
      ],
      "metadata": {
        "id": "DJzqAqOBcdSQ"
      },
      "execution_count": null,
      "outputs": []
    },
    {
      "cell_type": "code",
      "source": [
        "# Join vader_res to the original DataFrame\n",
        "Vader_res = df.merge(Vader_res, how = \"left\")\n",
        "Vader_res.head()"
      ],
      "metadata": {
        "colab": {
          "base_uri": "https://localhost:8080/",
          "height": 250
        },
        "id": "odQnb-dEcwzj",
        "outputId": "0375eae6-b60e-4bbf-9042-cfffbd555eac"
      },
      "execution_count": null,
      "outputs": [
        {
          "output_type": "execute_result",
          "data": {
            "text/plain": [
              "                    Datetime             Tweet Id  \\\n",
              "0  2022-09-30 23:29:15+00:00  1575991191170342912   \n",
              "1  2022-09-30 21:46:35+00:00  1575965354425131008   \n",
              "2  2022-09-30 21:18:02+00:00  1575958171423752203   \n",
              "3  2022-09-30 20:05:24+00:00  1575939891485032450   \n",
              "4  2022-09-30 20:03:17+00:00  1575939359160750080   \n",
              "\n",
              "                                                Text        Username    neg  \\\n",
              "0  @Logitech @apple @Google @Microsoft @Dell @Len...  ManjuSreedaran  0.000   \n",
              "1  @MK_habit_addict @official_stier @MortalKombat...      MiKeMcDnet  0.000   \n",
              "2  As @CRN celebrates its 40th anniversary, Bob F...        jfollett  0.000   \n",
              "3  @dell your customer service is horrible especi...       daveccarr  0.188   \n",
              "4  @zacokalo @Dell @DellCares @Dell give the man ...      heycamella  0.000   \n",
              "\n",
              "     neu    pos  compound  \n",
              "0  0.875  0.125    0.6461  \n",
              "1  1.000  0.000    0.0000  \n",
              "2  0.899  0.101    0.5719  \n",
              "3  0.812  0.000   -0.7579  \n",
              "4  1.000  0.000    0.0000  "
            ],
            "text/html": [
              "\n",
              "  <div id=\"df-cdc4c2f9-50f2-4946-b437-13acf4925abf\">\n",
              "    <div class=\"colab-df-container\">\n",
              "      <div>\n",
              "<style scoped>\n",
              "    .dataframe tbody tr th:only-of-type {\n",
              "        vertical-align: middle;\n",
              "    }\n",
              "\n",
              "    .dataframe tbody tr th {\n",
              "        vertical-align: top;\n",
              "    }\n",
              "\n",
              "    .dataframe thead th {\n",
              "        text-align: right;\n",
              "    }\n",
              "</style>\n",
              "<table border=\"1\" class=\"dataframe\">\n",
              "  <thead>\n",
              "    <tr style=\"text-align: right;\">\n",
              "      <th></th>\n",
              "      <th>Datetime</th>\n",
              "      <th>Tweet Id</th>\n",
              "      <th>Text</th>\n",
              "      <th>Username</th>\n",
              "      <th>neg</th>\n",
              "      <th>neu</th>\n",
              "      <th>pos</th>\n",
              "      <th>compound</th>\n",
              "    </tr>\n",
              "  </thead>\n",
              "  <tbody>\n",
              "    <tr>\n",
              "      <th>0</th>\n",
              "      <td>2022-09-30 23:29:15+00:00</td>\n",
              "      <td>1575991191170342912</td>\n",
              "      <td>@Logitech @apple @Google @Microsoft @Dell @Len...</td>\n",
              "      <td>ManjuSreedaran</td>\n",
              "      <td>0.000</td>\n",
              "      <td>0.875</td>\n",
              "      <td>0.125</td>\n",
              "      <td>0.6461</td>\n",
              "    </tr>\n",
              "    <tr>\n",
              "      <th>1</th>\n",
              "      <td>2022-09-30 21:46:35+00:00</td>\n",
              "      <td>1575965354425131008</td>\n",
              "      <td>@MK_habit_addict @official_stier @MortalKombat...</td>\n",
              "      <td>MiKeMcDnet</td>\n",
              "      <td>0.000</td>\n",
              "      <td>1.000</td>\n",
              "      <td>0.000</td>\n",
              "      <td>0.0000</td>\n",
              "    </tr>\n",
              "    <tr>\n",
              "      <th>2</th>\n",
              "      <td>2022-09-30 21:18:02+00:00</td>\n",
              "      <td>1575958171423752203</td>\n",
              "      <td>As @CRN celebrates its 40th anniversary, Bob F...</td>\n",
              "      <td>jfollett</td>\n",
              "      <td>0.000</td>\n",
              "      <td>0.899</td>\n",
              "      <td>0.101</td>\n",
              "      <td>0.5719</td>\n",
              "    </tr>\n",
              "    <tr>\n",
              "      <th>3</th>\n",
              "      <td>2022-09-30 20:05:24+00:00</td>\n",
              "      <td>1575939891485032450</td>\n",
              "      <td>@dell your customer service is horrible especi...</td>\n",
              "      <td>daveccarr</td>\n",
              "      <td>0.188</td>\n",
              "      <td>0.812</td>\n",
              "      <td>0.000</td>\n",
              "      <td>-0.7579</td>\n",
              "    </tr>\n",
              "    <tr>\n",
              "      <th>4</th>\n",
              "      <td>2022-09-30 20:03:17+00:00</td>\n",
              "      <td>1575939359160750080</td>\n",
              "      <td>@zacokalo @Dell @DellCares @Dell give the man ...</td>\n",
              "      <td>heycamella</td>\n",
              "      <td>0.000</td>\n",
              "      <td>1.000</td>\n",
              "      <td>0.000</td>\n",
              "      <td>0.0000</td>\n",
              "    </tr>\n",
              "  </tbody>\n",
              "</table>\n",
              "</div>\n",
              "      <button class=\"colab-df-convert\" onclick=\"convertToInteractive('df-cdc4c2f9-50f2-4946-b437-13acf4925abf')\"\n",
              "              title=\"Convert this dataframe to an interactive table.\"\n",
              "              style=\"display:none;\">\n",
              "        \n",
              "  <svg xmlns=\"http://www.w3.org/2000/svg\" height=\"24px\"viewBox=\"0 0 24 24\"\n",
              "       width=\"24px\">\n",
              "    <path d=\"M0 0h24v24H0V0z\" fill=\"none\"/>\n",
              "    <path d=\"M18.56 5.44l.94 2.06.94-2.06 2.06-.94-2.06-.94-.94-2.06-.94 2.06-2.06.94zm-11 1L8.5 8.5l.94-2.06 2.06-.94-2.06-.94L8.5 2.5l-.94 2.06-2.06.94zm10 10l.94 2.06.94-2.06 2.06-.94-2.06-.94-.94-2.06-.94 2.06-2.06.94z\"/><path d=\"M17.41 7.96l-1.37-1.37c-.4-.4-.92-.59-1.43-.59-.52 0-1.04.2-1.43.59L10.3 9.45l-7.72 7.72c-.78.78-.78 2.05 0 2.83L4 21.41c.39.39.9.59 1.41.59.51 0 1.02-.2 1.41-.59l7.78-7.78 2.81-2.81c.8-.78.8-2.07 0-2.86zM5.41 20L4 18.59l7.72-7.72 1.47 1.35L5.41 20z\"/>\n",
              "  </svg>\n",
              "      </button>\n",
              "      \n",
              "  <style>\n",
              "    .colab-df-container {\n",
              "      display:flex;\n",
              "      flex-wrap:wrap;\n",
              "      gap: 12px;\n",
              "    }\n",
              "\n",
              "    .colab-df-convert {\n",
              "      background-color: #E8F0FE;\n",
              "      border: none;\n",
              "      border-radius: 50%;\n",
              "      cursor: pointer;\n",
              "      display: none;\n",
              "      fill: #1967D2;\n",
              "      height: 32px;\n",
              "      padding: 0 0 0 0;\n",
              "      width: 32px;\n",
              "    }\n",
              "\n",
              "    .colab-df-convert:hover {\n",
              "      background-color: #E2EBFA;\n",
              "      box-shadow: 0px 1px 2px rgba(60, 64, 67, 0.3), 0px 1px 3px 1px rgba(60, 64, 67, 0.15);\n",
              "      fill: #174EA6;\n",
              "    }\n",
              "\n",
              "    [theme=dark] .colab-df-convert {\n",
              "      background-color: #3B4455;\n",
              "      fill: #D2E3FC;\n",
              "    }\n",
              "\n",
              "    [theme=dark] .colab-df-convert:hover {\n",
              "      background-color: #434B5C;\n",
              "      box-shadow: 0px 1px 3px 1px rgba(0, 0, 0, 0.15);\n",
              "      filter: drop-shadow(0px 1px 2px rgba(0, 0, 0, 0.3));\n",
              "      fill: #FFFFFF;\n",
              "    }\n",
              "  </style>\n",
              "\n",
              "      <script>\n",
              "        const buttonEl =\n",
              "          document.querySelector('#df-cdc4c2f9-50f2-4946-b437-13acf4925abf button.colab-df-convert');\n",
              "        buttonEl.style.display =\n",
              "          google.colab.kernel.accessAllowed ? 'block' : 'none';\n",
              "\n",
              "        async function convertToInteractive(key) {\n",
              "          const element = document.querySelector('#df-cdc4c2f9-50f2-4946-b437-13acf4925abf');\n",
              "          const dataTable =\n",
              "            await google.colab.kernel.invokeFunction('convertToInteractive',\n",
              "                                                     [key], {});\n",
              "          if (!dataTable) return;\n",
              "\n",
              "          const docLinkHtml = 'Like what you see? Visit the ' +\n",
              "            '<a target=\"_blank\" href=https://colab.research.google.com/notebooks/data_table.ipynb>data table notebook</a>'\n",
              "            + ' to learn more about interactive tables.';\n",
              "          element.innerHTML = '';\n",
              "          dataTable['output_type'] = 'display_data';\n",
              "          await google.colab.output.renderOutput(dataTable, element);\n",
              "          const docLink = document.createElement('div');\n",
              "          docLink.innerHTML = docLinkHtml;\n",
              "          element.appendChild(docLink);\n",
              "        }\n",
              "      </script>\n",
              "    </div>\n",
              "  </div>\n",
              "  "
            ]
          },
          "metadata": {},
          "execution_count": 44
        }
      ]
    },
    {
      "cell_type": "markdown",
      "source": [
        "**To add the column of sentiment at the end**"
      ],
      "metadata": {
        "id": "RbeoXSXnc_TQ"
      }
    },
    {
      "cell_type": "code",
      "source": [
        "def Sentiment_label(value):\n",
        "    if value > 0:\n",
        "        return \"Positive\"\n",
        "    if value == 0:\n",
        "        return \"Neutral\"\n",
        "    if value < 0:\n",
        "        return \"Negative\"\n",
        "    \n",
        "Vader_res[\"Sentiment\"] = Vader_res['compound'].map(Sentiment_label)"
      ],
      "metadata": {
        "id": "__K7LcRbc-e-"
      },
      "execution_count": null,
      "outputs": []
    },
    {
      "cell_type": "markdown",
      "source": [
        "The sentiment is based on the compund value:             \n",
        "Greater than 0 - Positve                     \n",
        "Less than 0 - Negative                             \n",
        "Equal to 0 - Neutral"
      ],
      "metadata": {
        "id": "dP1jO0ZldP0V"
      }
    },
    {
      "cell_type": "code",
      "source": [
        "Vader_res.head()"
      ],
      "metadata": {
        "colab": {
          "base_uri": "https://localhost:8080/",
          "height": 336
        },
        "id": "pzy-a8dadJHY",
        "outputId": "d2f449d5-3d76-4941-cdb1-13c75fbb5458"
      },
      "execution_count": null,
      "outputs": [
        {
          "output_type": "execute_result",
          "data": {
            "text/plain": [
              "                    Datetime             Tweet Id  \\\n",
              "0  2022-09-30 23:29:15+00:00  1575991191170342912   \n",
              "1  2022-09-30 21:46:35+00:00  1575965354425131008   \n",
              "2  2022-09-30 21:18:02+00:00  1575958171423752203   \n",
              "3  2022-09-30 20:05:24+00:00  1575939891485032450   \n",
              "4  2022-09-30 20:03:17+00:00  1575939359160750080   \n",
              "\n",
              "                                                Text        Username    neg  \\\n",
              "0  @Logitech @apple @Google @Microsoft @Dell @Len...  ManjuSreedaran  0.000   \n",
              "1  @MK_habit_addict @official_stier @MortalKombat...      MiKeMcDnet  0.000   \n",
              "2  As @CRN celebrates its 40th anniversary, Bob F...        jfollett  0.000   \n",
              "3  @dell your customer service is horrible especi...       daveccarr  0.188   \n",
              "4  @zacokalo @Dell @DellCares @Dell give the man ...      heycamella  0.000   \n",
              "\n",
              "     neu    pos  compound Sentiment  \n",
              "0  0.875  0.125    0.6461  Positive  \n",
              "1  1.000  0.000    0.0000   Neutral  \n",
              "2  0.899  0.101    0.5719  Positive  \n",
              "3  0.812  0.000   -0.7579  Negative  \n",
              "4  1.000  0.000    0.0000   Neutral  "
            ],
            "text/html": [
              "\n",
              "  <div id=\"df-96250680-8ab5-40fb-b943-e291892dc664\">\n",
              "    <div class=\"colab-df-container\">\n",
              "      <div>\n",
              "<style scoped>\n",
              "    .dataframe tbody tr th:only-of-type {\n",
              "        vertical-align: middle;\n",
              "    }\n",
              "\n",
              "    .dataframe tbody tr th {\n",
              "        vertical-align: top;\n",
              "    }\n",
              "\n",
              "    .dataframe thead th {\n",
              "        text-align: right;\n",
              "    }\n",
              "</style>\n",
              "<table border=\"1\" class=\"dataframe\">\n",
              "  <thead>\n",
              "    <tr style=\"text-align: right;\">\n",
              "      <th></th>\n",
              "      <th>Datetime</th>\n",
              "      <th>Tweet Id</th>\n",
              "      <th>Text</th>\n",
              "      <th>Username</th>\n",
              "      <th>neg</th>\n",
              "      <th>neu</th>\n",
              "      <th>pos</th>\n",
              "      <th>compound</th>\n",
              "      <th>Sentiment</th>\n",
              "    </tr>\n",
              "  </thead>\n",
              "  <tbody>\n",
              "    <tr>\n",
              "      <th>0</th>\n",
              "      <td>2022-09-30 23:29:15+00:00</td>\n",
              "      <td>1575991191170342912</td>\n",
              "      <td>@Logitech @apple @Google @Microsoft @Dell @Len...</td>\n",
              "      <td>ManjuSreedaran</td>\n",
              "      <td>0.000</td>\n",
              "      <td>0.875</td>\n",
              "      <td>0.125</td>\n",
              "      <td>0.6461</td>\n",
              "      <td>Positive</td>\n",
              "    </tr>\n",
              "    <tr>\n",
              "      <th>1</th>\n",
              "      <td>2022-09-30 21:46:35+00:00</td>\n",
              "      <td>1575965354425131008</td>\n",
              "      <td>@MK_habit_addict @official_stier @MortalKombat...</td>\n",
              "      <td>MiKeMcDnet</td>\n",
              "      <td>0.000</td>\n",
              "      <td>1.000</td>\n",
              "      <td>0.000</td>\n",
              "      <td>0.0000</td>\n",
              "      <td>Neutral</td>\n",
              "    </tr>\n",
              "    <tr>\n",
              "      <th>2</th>\n",
              "      <td>2022-09-30 21:18:02+00:00</td>\n",
              "      <td>1575958171423752203</td>\n",
              "      <td>As @CRN celebrates its 40th anniversary, Bob F...</td>\n",
              "      <td>jfollett</td>\n",
              "      <td>0.000</td>\n",
              "      <td>0.899</td>\n",
              "      <td>0.101</td>\n",
              "      <td>0.5719</td>\n",
              "      <td>Positive</td>\n",
              "    </tr>\n",
              "    <tr>\n",
              "      <th>3</th>\n",
              "      <td>2022-09-30 20:05:24+00:00</td>\n",
              "      <td>1575939891485032450</td>\n",
              "      <td>@dell your customer service is horrible especi...</td>\n",
              "      <td>daveccarr</td>\n",
              "      <td>0.188</td>\n",
              "      <td>0.812</td>\n",
              "      <td>0.000</td>\n",
              "      <td>-0.7579</td>\n",
              "      <td>Negative</td>\n",
              "    </tr>\n",
              "    <tr>\n",
              "      <th>4</th>\n",
              "      <td>2022-09-30 20:03:17+00:00</td>\n",
              "      <td>1575939359160750080</td>\n",
              "      <td>@zacokalo @Dell @DellCares @Dell give the man ...</td>\n",
              "      <td>heycamella</td>\n",
              "      <td>0.000</td>\n",
              "      <td>1.000</td>\n",
              "      <td>0.000</td>\n",
              "      <td>0.0000</td>\n",
              "      <td>Neutral</td>\n",
              "    </tr>\n",
              "  </tbody>\n",
              "</table>\n",
              "</div>\n",
              "      <button class=\"colab-df-convert\" onclick=\"convertToInteractive('df-96250680-8ab5-40fb-b943-e291892dc664')\"\n",
              "              title=\"Convert this dataframe to an interactive table.\"\n",
              "              style=\"display:none;\">\n",
              "        \n",
              "  <svg xmlns=\"http://www.w3.org/2000/svg\" height=\"24px\"viewBox=\"0 0 24 24\"\n",
              "       width=\"24px\">\n",
              "    <path d=\"M0 0h24v24H0V0z\" fill=\"none\"/>\n",
              "    <path d=\"M18.56 5.44l.94 2.06.94-2.06 2.06-.94-2.06-.94-.94-2.06-.94 2.06-2.06.94zm-11 1L8.5 8.5l.94-2.06 2.06-.94-2.06-.94L8.5 2.5l-.94 2.06-2.06.94zm10 10l.94 2.06.94-2.06 2.06-.94-2.06-.94-.94-2.06-.94 2.06-2.06.94z\"/><path d=\"M17.41 7.96l-1.37-1.37c-.4-.4-.92-.59-1.43-.59-.52 0-1.04.2-1.43.59L10.3 9.45l-7.72 7.72c-.78.78-.78 2.05 0 2.83L4 21.41c.39.39.9.59 1.41.59.51 0 1.02-.2 1.41-.59l7.78-7.78 2.81-2.81c.8-.78.8-2.07 0-2.86zM5.41 20L4 18.59l7.72-7.72 1.47 1.35L5.41 20z\"/>\n",
              "  </svg>\n",
              "      </button>\n",
              "      \n",
              "  <style>\n",
              "    .colab-df-container {\n",
              "      display:flex;\n",
              "      flex-wrap:wrap;\n",
              "      gap: 12px;\n",
              "    }\n",
              "\n",
              "    .colab-df-convert {\n",
              "      background-color: #E8F0FE;\n",
              "      border: none;\n",
              "      border-radius: 50%;\n",
              "      cursor: pointer;\n",
              "      display: none;\n",
              "      fill: #1967D2;\n",
              "      height: 32px;\n",
              "      padding: 0 0 0 0;\n",
              "      width: 32px;\n",
              "    }\n",
              "\n",
              "    .colab-df-convert:hover {\n",
              "      background-color: #E2EBFA;\n",
              "      box-shadow: 0px 1px 2px rgba(60, 64, 67, 0.3), 0px 1px 3px 1px rgba(60, 64, 67, 0.15);\n",
              "      fill: #174EA6;\n",
              "    }\n",
              "\n",
              "    [theme=dark] .colab-df-convert {\n",
              "      background-color: #3B4455;\n",
              "      fill: #D2E3FC;\n",
              "    }\n",
              "\n",
              "    [theme=dark] .colab-df-convert:hover {\n",
              "      background-color: #434B5C;\n",
              "      box-shadow: 0px 1px 3px 1px rgba(0, 0, 0, 0.15);\n",
              "      filter: drop-shadow(0px 1px 2px rgba(0, 0, 0, 0.3));\n",
              "      fill: #FFFFFF;\n",
              "    }\n",
              "  </style>\n",
              "\n",
              "      <script>\n",
              "        const buttonEl =\n",
              "          document.querySelector('#df-96250680-8ab5-40fb-b943-e291892dc664 button.colab-df-convert');\n",
              "        buttonEl.style.display =\n",
              "          google.colab.kernel.accessAllowed ? 'block' : 'none';\n",
              "\n",
              "        async function convertToInteractive(key) {\n",
              "          const element = document.querySelector('#df-96250680-8ab5-40fb-b943-e291892dc664');\n",
              "          const dataTable =\n",
              "            await google.colab.kernel.invokeFunction('convertToInteractive',\n",
              "                                                     [key], {});\n",
              "          if (!dataTable) return;\n",
              "\n",
              "          const docLinkHtml = 'Like what you see? Visit the ' +\n",
              "            '<a target=\"_blank\" href=https://colab.research.google.com/notebooks/data_table.ipynb>data table notebook</a>'\n",
              "            + ' to learn more about interactive tables.';\n",
              "          element.innerHTML = '';\n",
              "          dataTable['output_type'] = 'display_data';\n",
              "          await google.colab.output.renderOutput(dataTable, element);\n",
              "          const docLink = document.createElement('div');\n",
              "          docLink.innerHTML = docLinkHtml;\n",
              "          element.appendChild(docLink);\n",
              "        }\n",
              "      </script>\n",
              "    </div>\n",
              "  </div>\n",
              "  "
            ]
          },
          "metadata": {},
          "execution_count": 47
        }
      ]
    },
    {
      "cell_type": "markdown",
      "source": [
        "**Visulize the Sentiments**"
      ],
      "metadata": {
        "id": "7j80C2RKd2ZF"
      }
    },
    {
      "cell_type": "code",
      "source": [
        "ax = Vader_res.Sentiment.value_counts().plot(kind = 'bar', label = 'ax')\n",
        "ax.set_title (\"Number of Tweets by Sentiment\")\n",
        "ax.set_ylabel (\"Number of tweets\")"
      ],
      "metadata": {
        "colab": {
          "base_uri": "https://localhost:8080/",
          "height": 335
        },
        "id": "Ds6Y_oDzd3v4",
        "outputId": "d3b1e108-4ff2-4871-eb71-6db0e634bae7"
      },
      "execution_count": null,
      "outputs": [
        {
          "output_type": "execute_result",
          "data": {
            "text/plain": [
              "Text(0, 0.5, 'Number of tweets')"
            ]
          },
          "metadata": {},
          "execution_count": 48
        },
        {
          "output_type": "display_data",
          "data": {
            "text/plain": [
              "<Figure size 432x288 with 1 Axes>"
            ],
            "image/png": "[encoded data removed]"
          },
          "metadata": {
            "needs_background": "light"
          }
        }
      ]
    },
    {
      "cell_type": "markdown",
      "source": [
        "**Created subset of positive,negative,neutral words in tweets**"
      ],
      "metadata": {
        "id": "BMoiWoFieDi6"
      }
    },
    {
      "cell_type": "code",
      "source": [
        "Positive_tweets = Vader_res[Vader_res['Sentiment'] == 'Positive']\n",
        "Neutral_tweets = Vader_res[Vader_res['Sentiment'] == 'Neutral']\n",
        "Negative_tweets = Vader_res[Vader_res['Sentiment'] == 'Negative']"
      ],
      "metadata": {
        "id": "jwDEbDF9eC2b"
      },
      "execution_count": null,
      "outputs": []
    },
    {
      "cell_type": "code",
      "source": [
        "combined_pos_text =  ''.join(Positive_tweets.Text)\n",
        "print(\"There are {} words in the combination of all positive tweets.\\n\".format(len(combined_pos_text)))\n",
        "\n",
        "combined_neg_text =  ''.join(Negative_tweets.Text)\n",
        "print(\"There are {} words in the combination of all negative tweets.\\n\" .format(len(combined_neg_text)))\n",
        "\n",
        "combined_neu_text =  ''.join(Neutral_tweets.Text)\n",
        "print(\"There are {} words in the combination of all neutral tweets.\\n\" .format(len(combined_neu_text)))"
      ],
      "metadata": {
        "colab": {
          "base_uri": "https://localhost:8080/"
        },
        "id": "vGe43vZVd7ye",
        "outputId": "3fac46eb-e1b4-4fd5-dd2c-758733cc9cde"
      },
      "execution_count": null,
      "outputs": [
        {
          "output_type": "stream",
          "name": "stdout",
          "text": [
            "There are 2173661 words in the combination of all positive tweets.\n",
            "\n",
            "There are 1448753 words in the combination of all negative tweets.\n",
            "\n",
            "There are 698244 words in the combination of all neutral tweets.\n",
            "\n"
          ]
        }
      ]
    }
  ]
}